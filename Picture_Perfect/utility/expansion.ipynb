{
 "cells": [
  {
   "cell_type": "code",
   "execution_count": 2,
   "metadata": {},
   "outputs": [
    {
     "name": "stdout",
     "output_type": "stream",
     "text": [
      "Collecting pandas_profiling\n",
      "  Downloading pandas_profiling-3.0.0-py2.py3-none-any.whl (248 kB)\n",
      "Requirement already satisfied: scipy>=1.4.1 in d:\\anaconda\\lib\\site-packages (from pandas_profiling) (1.5.2)\n",
      "Requirement already satisfied: requests>=2.24.0 in d:\\anaconda\\lib\\site-packages (from pandas_profiling) (2.24.0)\n",
      "Requirement already satisfied: matplotlib>=3.2.0 in d:\\anaconda\\lib\\site-packages (from pandas_profiling) (3.3.2)\n",
      "Collecting pydantic>=1.8.1\n",
      "  Downloading pydantic-1.8.2-cp38-cp38-win_amd64.whl (2.0 MB)\n",
      "Collecting tangled-up-in-unicode==0.1.0\n",
      "  Downloading tangled_up_in_unicode-0.1.0-py3-none-any.whl (3.1 MB)\n",
      "Collecting visions[type_image_path]==0.7.1\n",
      "  Downloading visions-0.7.1-py3-none-any.whl (102 kB)\n",
      "Requirement already satisfied: joblib in d:\\anaconda\\lib\\site-packages (from pandas_profiling) (0.17.0)\n",
      "Requirement already satisfied: numpy>=1.16.0 in d:\\anaconda\\lib\\site-packages (from pandas_profiling) (1.19.2)\n",
      "Collecting htmlmin>=0.1.12\n",
      "  Downloading htmlmin-0.1.12.tar.gz (19 kB)\n",
      "Requirement already satisfied: seaborn>=0.10.1 in d:\\anaconda\\lib\\site-packages (from pandas_profiling) (0.11.0)\n",
      "Requirement already satisfied: tqdm>=4.48.2 in d:\\anaconda\\lib\\site-packages (from pandas_profiling) (4.50.2)\n",
      "Requirement already satisfied: pandas!=1.0.0,!=1.0.1,!=1.0.2,!=1.1.0,>=0.25.3 in d:\\anaconda\\lib\\site-packages (from pandas_profiling) (1.1.3)\n",
      "Collecting phik>=0.11.1\n",
      "  Downloading phik-0.11.2.tar.gz (1.1 MB)\n",
      "Requirement already satisfied: jinja2>=2.11.1 in d:\\anaconda\\lib\\site-packages (from pandas_profiling) (2.11.2)\n",
      "Requirement already satisfied: PyYAML>=5.0.0 in d:\\anaconda\\lib\\site-packages (from pandas_profiling) (5.3.1)\n",
      "Collecting missingno>=0.4.2\n",
      "  Downloading missingno-0.4.2-py3-none-any.whl (9.7 kB)\n",
      "Requirement already satisfied: chardet<4,>=3.0.2 in d:\\anaconda\\lib\\site-packages (from requests>=2.24.0->pandas_profiling) (3.0.4)\n",
      "Requirement already satisfied: idna<3,>=2.5 in d:\\anaconda\\lib\\site-packages (from requests>=2.24.0->pandas_profiling) (2.10)\n",
      "Requirement already satisfied: urllib3!=1.25.0,!=1.25.1,<1.26,>=1.21.1 in d:\\anaconda\\lib\\site-packages (from requests>=2.24.0->pandas_profiling) (1.25.11)\n",
      "Requirement already satisfied: certifi>=2017.4.17 in d:\\anaconda\\lib\\site-packages (from requests>=2.24.0->pandas_profiling) (2020.6.20)\n",
      "Requirement already satisfied: cycler>=0.10 in d:\\anaconda\\lib\\site-packages (from matplotlib>=3.2.0->pandas_profiling) (0.10.0)\n",
      "Requirement already satisfied: pyparsing!=2.0.4,!=2.1.2,!=2.1.6,>=2.0.3 in d:\\anaconda\\lib\\site-packages (from matplotlib>=3.2.0->pandas_profiling) (2.4.7)\n",
      "Requirement already satisfied: kiwisolver>=1.0.1 in d:\\anaconda\\lib\\site-packages (from matplotlib>=3.2.0->pandas_profiling) (1.3.0)\n",
      "Requirement already satisfied: python-dateutil>=2.1 in d:\\anaconda\\lib\\site-packages (from matplotlib>=3.2.0->pandas_profiling) (2.8.1)\n",
      "Requirement already satisfied: pillow>=6.2.0 in d:\\anaconda\\lib\\site-packages (from matplotlib>=3.2.0->pandas_profiling) (8.0.1)\n",
      "Requirement already satisfied: typing-extensions>=3.7.4.3 in d:\\anaconda\\lib\\site-packages (from pydantic>=1.8.1->pandas_profiling) (3.7.4.3)\n",
      "Requirement already satisfied: bottleneck in d:\\anaconda\\lib\\site-packages (from visions[type_image_path]==0.7.1->pandas_profiling) (1.3.2)\n",
      "Requirement already satisfied: attrs>=19.3.0 in d:\\anaconda\\lib\\site-packages (from visions[type_image_path]==0.7.1->pandas_profiling) (20.3.0)\n",
      "Collecting multimethod==1.4\n",
      "  Downloading multimethod-1.4-py2.py3-none-any.whl (7.3 kB)\n",
      "Requirement already satisfied: networkx>=2.4 in d:\\anaconda\\lib\\site-packages (from visions[type_image_path]==0.7.1->pandas_profiling) (2.5)\n",
      "Collecting imagehash; extra == \"type_image_path\"\n",
      "  Downloading ImageHash-4.2.0-py2.py3-none-any.whl (295 kB)\n",
      "Requirement already satisfied: pytz>=2017.2 in d:\\anaconda\\lib\\site-packages (from pandas!=1.0.0,!=1.0.1,!=1.0.2,!=1.1.0,>=0.25.3->pandas_profiling) (2020.1)\n",
      "Requirement already satisfied: MarkupSafe>=0.23 in d:\\anaconda\\lib\\site-packages (from jinja2>=2.11.1->pandas_profiling) (1.1.1)\n",
      "Requirement already satisfied: six in d:\\anaconda\\lib\\site-packages (from cycler>=0.10->matplotlib>=3.2.0->pandas_profiling) (1.15.0)\n",
      "Requirement already satisfied: decorator>=4.3.0 in d:\\anaconda\\lib\\site-packages (from networkx>=2.4->visions[type_image_path]==0.7.1->pandas_profiling) (4.4.2)\n",
      "Requirement already satisfied: PyWavelets in d:\\anaconda\\lib\\site-packages (from imagehash; extra == \"type_image_path\"->visions[type_image_path]==0.7.1->pandas_profiling) (1.1.1)\n",
      "Building wheels for collected packages: htmlmin, phik\n",
      "  Building wheel for htmlmin (setup.py): started\n",
      "  Building wheel for htmlmin (setup.py): finished with status 'done'\n",
      "  Created wheel for htmlmin: filename=htmlmin-0.1.12-py3-none-any.whl size=27091 sha256=5726605bfa95c10c4c054bd673de6b018f6ca4937addd510425c2b44c66bbec9\n",
      "  Stored in directory: c:\\users\\shubh\\appdata\\local\\pip\\cache\\wheels\\23\\14\\6e\\4be5bfeeb027f4939a01764b48edd5996acf574b0913fe5243\n",
      "  Building wheel for phik (setup.py): started\n",
      "  Building wheel for phik (setup.py): finished with status 'done'\n",
      "  Created wheel for phik: filename=phik-0.11.2-py3-none-any.whl size=1107420 sha256=d51515931e0f9f94ba162414e340491df5cd5b728b3cc8065c75abbb23a134ed\n",
      "  Stored in directory: c:\\users\\shubh\\appdata\\local\\pip\\cache\\wheels\\72\\9a\\23\\097c93fd8341220d92674891b6a9a30f0e389719d9b7291bd2\n",
      "Successfully built htmlmin phik\n",
      "Installing collected packages: pydantic, tangled-up-in-unicode, multimethod, imagehash, visions, htmlmin, phik, missingno, pandas-profiling\n",
      "Successfully installed htmlmin-0.1.12 imagehash-4.2.0 missingno-0.4.2 multimethod-1.4 pandas-profiling-3.0.0 phik-0.11.2 pydantic-1.8.2 tangled-up-in-unicode-0.1.0 visions-0.7.1\n"
     ]
    }
   ],
   "source": [
    "!pip install pandas_profiling"
   ]
  },
  {
   "cell_type": "code",
   "execution_count": 2,
   "metadata": {},
   "outputs": [],
   "source": [
    "import matplotlib.pyplot as plt\n",
    "import pandas as pd\n",
    "import os\n",
    "from pandas_profiling import ProfileReport\n",
    "\n",
    "from sklearn.neural_network import MLPRegressor\n",
    "from sklearn.neighbors import KNeighborsRegressor\n",
    "from sklearn.model_selection import train_test_split\n",
    "\n",
    "import pickle"
   ]
  },
  {
   "cell_type": "code",
   "execution_count": 3,
   "metadata": {},
   "outputs": [],
   "source": [
    "def reduce_range(x):\n",
    "    # x: int (45, 105)\n",
    "    # y: int (50, 100)\n",
    "    # 100/105 = 0.9523\n",
    "    return int(50 + 0.9523*(x-45))"
   ]
  },
  {
   "cell_type": "code",
   "execution_count": 4,
   "metadata": {},
   "outputs": [],
   "source": [
    "def get_data(img_path, x=45, y=75):\n",
    "    img = plt.imread(img_path)\n",
    "    #img -> 150x150 input image\n",
    "    output_pixel = img[45][75][0]\n",
    "    if x==45:\n",
    "        t = reduce_range(y)\n",
    "        neighbours = [\n",
    "            img[50][t-20][0],\n",
    "            img[50][t-10][0],\n",
    "            img[50][t][0],\n",
    "            img[50][t+10][0],\n",
    "            img[50][t+20][0]\n",
    "        ]\n",
    "    elif x==105:\n",
    "        t = reduce_range(y)\n",
    "        neighbours = [\n",
    "            img[100][t-20][0],\n",
    "            img[100][t-10][0],\n",
    "            img[100][t][0],\n",
    "            img[100][t+10][0],\n",
    "            img[100][t+20][0]\n",
    "        ]\n",
    "    elif y==45:\n",
    "        t = reduce_range(x)\n",
    "        neighbours = [\n",
    "            img[t-20][50][0],\n",
    "            img[t-10][50][0],\n",
    "            img[t][50][0],\n",
    "            img[t+10][50][0],\n",
    "            img[t+20][50][0],\n",
    "        ]\n",
    "    else:\n",
    "        t = reduce_range(x)\n",
    "        neighbours = [\n",
    "            img[t-20][100][0],\n",
    "            img[t-10][100][0],\n",
    "            img[t][100][0],\n",
    "            img[t+10][100][0],\n",
    "            img[t+20][100][0]\n",
    "        ]\n",
    "    return neighbours, output_pixel"
   ]
  },
  {
   "cell_type": "code",
   "execution_count": 5,
   "metadata": {},
   "outputs": [],
   "source": [
    "def get_df(dir, i=45, j=75):\n",
    "    df = pd.DataFrame(columns=['input_1', 'input_2', 'input_3', 'input_4', 'input_5', 'output'])\n",
    "    for fl in os.listdir(dir):\n",
    "        row = get_data(dir+fl, i, j)\n",
    "        df.loc[len(df.index)] = row[0] +[row[1]]\n",
    "    return df"
   ]
  },
  {
   "cell_type": "code",
   "execution_count": 6,
   "metadata": {},
   "outputs": [
    {
     "name": "stdout",
     "output_type": "stream",
     "text": [
      "    input_1 input_2 input_3 input_4 input_5 output\n",
      "0       117     129      92     105      97    165\n",
      "1        90      56      76      73      95    107\n",
      "2       130     118     199     174     167    201\n",
      "3       116     122     127     125     124    132\n",
      "4         5     131     128     235     132     71\n",
      "..      ...     ...     ...     ...     ...    ...\n",
      "432     163     171     117     186     130     82\n",
      "433     104     190     179     190      54     84\n",
      "434     251     110     111     255     145     73\n",
      "435     116     120      79     117      97    133\n",
      "436     205     191     225     125      45    205\n",
      "\n",
      "[437 rows x 6 columns]\n"
     ]
    }
   ],
   "source": [
    "df = get_df('./Dataset/seg_test/seg_test/buildings/')\n",
    "print(df)"
   ]
  },
  {
   "cell_type": "code",
   "execution_count": 7,
   "metadata": {},
   "outputs": [],
   "source": [
    "profile = ProfileReport(df, title=\"Pandas Profiling Report\")"
   ]
  },
  {
   "cell_type": "code",
   "execution_count": 8,
   "metadata": {},
   "outputs": [
    {
     "data": {
      "application/vnd.jupyter.widget-view+json": {
       "model_id": "654f39250ede48d5a24c005519ca9e07",
       "version_major": 2,
       "version_minor": 0
      },
      "text/plain": [
       "HBox(children=(HTML(value='Summarize dataset'), FloatProgress(value=0.0, max=19.0), HTML(value='')))"
      ]
     },
     "metadata": {},
     "output_type": "display_data"
    },
    {
     "name": "stdout",
     "output_type": "stream",
     "text": [
      "\n"
     ]
    },
    {
     "data": {
      "application/vnd.jupyter.widget-view+json": {
       "model_id": "cbe420e52800448ba0568d5e7db4b4b6",
       "version_major": 2,
       "version_minor": 0
      },
      "text/plain": [
       "HBox(children=(HTML(value='Generate report structure'), FloatProgress(value=0.0, max=1.0), HTML(value='')))"
      ]
     },
     "metadata": {},
     "output_type": "display_data"
    },
    {
     "name": "stdout",
     "output_type": "stream",
     "text": [
      "\n"
     ]
    },
    {
     "data": {
      "application/vnd.jupyter.widget-view+json": {
       "model_id": "49cec049b56140bda54782246ed477a1",
       "version_major": 2,
       "version_minor": 0
      },
      "text/plain": [
       "HBox(children=(HTML(value='Render HTML'), FloatProgress(value=0.0, max=1.0), HTML(value='')))"
      ]
     },
     "metadata": {},
     "output_type": "display_data"
    },
    {
     "name": "stdout",
     "output_type": "stream",
     "text": [
      "\n"
     ]
    },
    {
     "data": {
      "application/vnd.jupyter.widget-view+json": {
       "model_id": "f6e39166f03542f6a002de0ba3fcca10",
       "version_major": 2,
       "version_minor": 0
      },
      "text/plain": [
       "HBox(children=(HTML(value='Export report to file'), FloatProgress(value=0.0, max=1.0), HTML(value='')))"
      ]
     },
     "metadata": {},
     "output_type": "display_data"
    },
    {
     "name": "stdout",
     "output_type": "stream",
     "text": [
      "\n"
     ]
    }
   ],
   "source": [
    "profile.to_file(\"basic_report.html\")"
   ]
  },
  {
   "cell_type": "code",
   "execution_count": 9,
   "metadata": {},
   "outputs": [],
   "source": [
    "X = df[df.columns[:5]]\n",
    "y = df['output']"
   ]
  },
  {
   "cell_type": "code",
   "execution_count": 10,
   "metadata": {},
   "outputs": [],
   "source": [
    "X_train, X_test, y_train, y_test = train_test_split(X, y, random_state=1)"
   ]
  },
  {
   "cell_type": "code",
   "execution_count": 11,
   "metadata": {},
   "outputs": [
    {
     "name": "stderr",
     "output_type": "stream",
     "text": [
      "D:\\Anaconda\\lib\\site-packages\\sklearn\\neural_network\\_multilayer_perceptron.py:582: ConvergenceWarning: Stochastic Optimizer: Maximum iterations (500) reached and the optimization hasn't converged yet.\n",
      "  warnings.warn(\n"
     ]
    },
    {
     "data": {
      "text/plain": [
       "0.3336827084725126"
      ]
     },
     "execution_count": 11,
     "metadata": {},
     "output_type": "execute_result"
    }
   ],
   "source": [
    "regr = MLPRegressor(random_state=1, max_iter=500).fit(X_train, y_train)\n",
    "regr.score(X_test, y_test)"
   ]
  },
  {
   "cell_type": "code",
   "execution_count": 12,
   "metadata": {},
   "outputs": [
    {
     "data": {
      "text/plain": [
       "0.660606269586594"
      ]
     },
     "execution_count": 12,
     "metadata": {},
     "output_type": "execute_result"
    }
   ],
   "source": [
    "neigh = KNeighborsRegressor(n_neighbors=2)\n",
    "neigh.fit(X, y)\n",
    "neigh.score(X_test, y_test)"
   ]
  },
  {
   "cell_type": "code",
   "execution_count": 13,
   "metadata": {},
   "outputs": [],
   "source": [
    "models = []\n",
    "loc = [\n",
    "    [45, 45],\n",
    "    [45, 75],\n",
    "    [45, 105],\n",
    "    [75, 45],\n",
    "    [75, 105],\n",
    "    [105, 45],\n",
    "    [105, 75],\n",
    "    [105, 105]\n",
    "]"
   ]
  },
  {
   "cell_type": "code",
   "execution_count": 14,
   "metadata": {},
   "outputs": [
    {
     "name": "stdout",
     "output_type": "stream",
     "text": [
      "45 45\n",
      "0.6298386158494249\n",
      "45 75\n",
      "0.660606269586594\n",
      "45 105\n",
      "0.6991415676781325\n",
      "75 45\n",
      "0.478104299198709\n",
      "75 105\n",
      "0.48800789093433916\n",
      "105 45\n",
      "0.5519831015781869\n",
      "105 75\n",
      "0.47938514515190755\n",
      "105 105\n",
      "0.5495442305166169\n"
     ]
    }
   ],
   "source": [
    "for i,j in loc:\n",
    "    print(i, j)\n",
    "    df = get_df('./Dataset/seg_test/seg_test/buildings/', i, j)\n",
    "    X = df[df.columns[:5]]\n",
    "    y = df['output']\n",
    "    X_train, X_test, y_train, y_test = train_test_split(X, y, random_state=1)\n",
    "    models.append(KNeighborsRegressor(n_neighbors=2).fit(X, y))\n",
    "    print(models[-1].score(X_test, y_test))"
   ]
  },
  {
   "cell_type": "code",
   "execution_count": 15,
   "metadata": {},
   "outputs": [],
   "source": [
    "with open('knn_expansion_models.pkl','wb') as f:\n",
    "     pickle.dump(models, f)"
   ]
  },
  {
   "cell_type": "code",
   "execution_count": null,
   "metadata": {},
   "outputs": [],
   "source": []
  }
 ],
 "metadata": {
  "kernelspec": {
   "display_name": "Python 3",
   "language": "python",
   "name": "python3"
  },
  "language_info": {
   "codemirror_mode": {
    "name": "ipython",
    "version": 3
   },
   "file_extension": ".py",
   "mimetype": "text/x-python",
   "name": "python",
   "nbconvert_exporter": "python",
   "pygments_lexer": "ipython3",
   "version": "3.8.5"
  }
 },
 "nbformat": 4,
 "nbformat_minor": 4
}
