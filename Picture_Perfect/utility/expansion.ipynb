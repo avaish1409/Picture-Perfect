{
 "metadata": {
  "language_info": {
   "codemirror_mode": {
    "name": "ipython",
    "version": 3
   },
   "file_extension": ".py",
   "mimetype": "text/x-python",
   "name": "python",
   "nbconvert_exporter": "python",
   "pygments_lexer": "ipython3",
   "version": "3.7.6"
  },
  "orig_nbformat": 2,
  "kernelspec": {
   "name": "python376jvsc74a57bd03e3925bf040739cac177962b24b140fb2c2dda4e1dba935e139eb7b5d9cc4ba8",
   "display_name": "Python 3.7.6 64-bit ('base': conda)"
  },
  "metadata": {
   "interpreter": {
    "hash": "3e3925bf040739cac177962b24b140fb2c2dda4e1dba935e139eb7b5d9cc4ba8"
   }
  }
 },
 "nbformat": 4,
 "nbformat_minor": 2,
 "cells": [
  {
   "cell_type": "code",
   "execution_count": 2,
   "metadata": {},
   "outputs": [],
   "source": [
    "import matplotlib.pyplot as plt\n",
    "import pandas as pd\n",
    "import os\n",
    "from pandas_profiling import ProfileReport\n",
    "\n",
    "from sklearn.neural_network import MLPRegressor\n",
    "from sklearn.neighbors import KNeighborsRegressor\n",
    "from sklearn.model_selection import train_test_split\n"
   ]
  },
  {
   "cell_type": "code",
   "execution_count": 3,
   "metadata": {},
   "outputs": [],
   "source": [
    "def reduce_range(x):\n",
    "    # x: int (45, 105)\n",
    "    # y: int (50, 100)\n",
    "    # 100/105 = 0.9523\n",
    "    return int(50 + 0.9523*(x-45))"
   ]
  },
  {
   "cell_type": "code",
   "execution_count": 4,
   "metadata": {},
   "outputs": [],
   "source": [
    "def get_data(img_path, x=45, y=75):\n",
    "    img = plt.imread(img_path)\n",
    "    #img -> 150x150 input image\n",
    "    output_pixel = img[45][75][0]\n",
    "    if x==45:\n",
    "        t = reduce_range(y)\n",
    "        neighbours = [\n",
    "            img[50][t-20][0],\n",
    "            img[50][t-10][0],\n",
    "            img[50][t][0],\n",
    "            img[50][t+10][0],\n",
    "            img[50][t+20][0]\n",
    "        ]\n",
    "    elif x==105:\n",
    "        t = reduce_range(y)\n",
    "        neighbours = [\n",
    "            img[100][t-20][0],\n",
    "            img[100][t-10][0],\n",
    "            img[100][t][0],\n",
    "            img[100][t+10][0],\n",
    "            img[100][t+20][0]\n",
    "        ]\n",
    "    elif y==45:\n",
    "        t = reduce_range(x)\n",
    "        neighbours = [\n",
    "            img[t-20][50][0],\n",
    "            img[t-10][50][0],\n",
    "            img[t][50][0],\n",
    "            img[t+10][50][0],\n",
    "            img[t+20][50][0],\n",
    "        ]\n",
    "    else:\n",
    "        t = reduce_range(x)\n",
    "        neighbours = [\n",
    "            img[t-20][100][0],\n",
    "            img[t-10][100][0],\n",
    "            img[t][100][0],\n",
    "            img[t+10][100][0],\n",
    "            img[t+20][100][0]\n",
    "        ]\n",
    "    return neighbours, output_pixel    "
   ]
  },
  {
   "cell_type": "code",
   "execution_count": 6,
   "metadata": {},
   "outputs": [],
   "source": [
    "\n",
    "def get_df(dir):\n",
    "    df = pd.DataFrame(columns=['input_1', 'input_2', 'input_3', 'input_4', 'input_5', 'output'])\n",
    "    for i in os.listdir(dir):\n",
    "        row = get_data(dir+i)\n",
    "        df.loc[len(df.index)] = row[0] +[row[1]]\n",
    "    return df\n"
   ]
  },
  {
   "cell_type": "code",
   "execution_count": 7,
   "metadata": {},
   "outputs": [
    {
     "output_type": "stream",
     "name": "stdout",
     "text": [
      "      input_1     input_2     input_3     input_4     input_5      output\n0    0.721569    0.772549    0.580392    0.168627    0.447059    0.580392\n1   47.000000   47.000000   47.000000   47.000000   51.000000   47.000000\n2    0.925490    0.925490    0.925490    0.925490    0.925490    0.925490\n3   52.000000   53.000000   51.000000   49.000000   51.000000   51.000000\n4    0.266667    0.266667    0.266667    0.266667    0.266667    0.266667\n5    0.078431    0.078431    0.078431    0.078431    0.078431    0.078431\n6  234.000000  233.000000  222.000000  226.000000  226.000000  226.000000\n7    0.000000    0.000000    0.000000    0.000000    0.000000    0.000000\n"
     ]
    }
   ],
   "source": [
    "\n",
    "df = get_df('/home/anirudh/Desktop/images/')\n",
    "print(df)"
   ]
  },
  {
   "cell_type": "code",
   "execution_count": 8,
   "metadata": {},
   "outputs": [],
   "source": [
    "profile = ProfileReport(df, title=\"Pandas Profiling Report\")"
   ]
  },
  {
   "cell_type": "code",
   "execution_count": 9,
   "metadata": {},
   "outputs": [
    {
     "output_type": "stream",
     "name": "stderr",
     "text": [
      "Summarize dataset: 100%|██████████| 19/19 [00:13<00:00,  1.42it/s, Completed]\n",
      "Generate report structure: 100%|██████████| 1/1 [00:01<00:00,  1.99s/it]\n",
      "Render HTML: 100%|██████████| 1/1 [00:00<00:00,  1.97it/s]\n",
      "Export report to file: 100%|██████████| 1/1 [00:00<00:00, 248.39it/s]\n"
     ]
    }
   ],
   "source": [
    "profile.to_file(\"basic_report.html\")"
   ]
  },
  {
   "cell_type": "code",
   "execution_count": 10,
   "metadata": {},
   "outputs": [],
   "source": [
    "X = df[df.columns[:5]]\n",
    "y = df['output']"
   ]
  },
  {
   "cell_type": "code",
   "execution_count": 11,
   "metadata": {},
   "outputs": [],
   "source": [
    "X_train, X_test, y_train, y_test = train_test_split(X, y, random_state=1)"
   ]
  },
  {
   "cell_type": "code",
   "execution_count": 12,
   "metadata": {},
   "outputs": [
    {
     "output_type": "execute_result",
     "data": {
      "text/plain": [
       "0.9353505812002496"
      ]
     },
     "metadata": {},
     "execution_count": 12
    }
   ],
   "source": [
    "regr = MLPRegressor(random_state=1, max_iter=500).fit(X_train, y_train)\n",
    "regr.score(X_test, y_test)"
   ]
  },
  {
   "cell_type": "code",
   "execution_count": 13,
   "metadata": {},
   "outputs": [
    {
     "output_type": "execute_result",
     "data": {
      "text/plain": [
       "0.9268888337852393"
      ]
     },
     "metadata": {},
     "execution_count": 13
    }
   ],
   "source": [
    "neigh = KNeighborsRegressor(n_neighbors=2)\n",
    "neigh.fit(X, y)\n",
    "neigh.score(X_test, y_test)"
   ]
  }
 ]
}