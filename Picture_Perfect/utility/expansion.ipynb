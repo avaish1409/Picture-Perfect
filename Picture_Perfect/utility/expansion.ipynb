{
 "metadata": {
  "language_info": {
   "codemirror_mode": {
    "name": "ipython",
    "version": 3
   },
   "file_extension": ".py",
   "mimetype": "text/x-python",
   "name": "python",
   "nbconvert_exporter": "python",
   "pygments_lexer": "ipython3",
   "version": "3.7.6"
  },
  "orig_nbformat": 2,
  "kernelspec": {
   "name": "python376jvsc74a57bd03e3925bf040739cac177962b24b140fb2c2dda4e1dba935e139eb7b5d9cc4ba8",
   "display_name": "Python 3.7.6 64-bit ('base': conda)"
  },
  "metadata": {
   "interpreter": {
    "hash": "3e3925bf040739cac177962b24b140fb2c2dda4e1dba935e139eb7b5d9cc4ba8"
   }
  }
 },
 "nbformat": 4,
 "nbformat_minor": 2,
 "cells": [
  {
   "cell_type": "code",
   "execution_count": 12,
   "metadata": {},
   "outputs": [],
   "source": [
    "import matplotlib.pyplot as plt\n",
    "import pandas as pd\n",
    "import os\n",
    "from pandas_profiling import ProfileReport\n",
    "\n",
    "from sklearn.neural_network import MLPRegressor\n",
    "from sklearn.neighbors import KNeighborsRegressor\n"
   ]
  },
  {
   "cell_type": "code",
   "execution_count": 2,
   "metadata": {},
   "outputs": [],
   "source": [
    "\n",
    "def get_data(img_path):\n",
    "    img = plt.imread(img_path)\n",
    "    #img -> 150x150 input image\n",
    "    output_pixel = img[45][75][0] # last index is to be corrected\n",
    "    neighbours = [\n",
    "        img[50][55][0],\n",
    "        img[50][65][0],\n",
    "        img[50][75][0],\n",
    "        img[50][85][0],\n",
    "        img[50][95][0]\n",
    "    ]\n",
    "    cropped_img = img[50:100, 50:100]\n",
    "    return neighbours, output_pixel\n"
   ]
  },
  {
   "cell_type": "code",
   "execution_count": 3,
   "metadata": {},
   "outputs": [],
   "source": [
    "\n",
    "def get_df(dir):\n",
    "    df = pd.DataFrame(columns=['input_1', 'input_2', 'input_3', 'input_4', 'input_5', 'output'])\n",
    "    for i in os.listdir(dir):\n",
    "        row = get_data(dir+i)\n",
    "        df.loc[len(df.index)] = row[0] +[row[1]]\n",
    "    return df\n"
   ]
  },
  {
   "cell_type": "code",
   "execution_count": 9,
   "metadata": {},
   "outputs": [
    {
     "output_type": "stream",
     "name": "stdout",
     "text": [
      "      input_1     input_2     input_3     input_4     input_5      output\n0    0.313726    0.721569    0.580392    0.168627    0.180392    0.580392\n1   47.000000   47.000000   47.000000   47.000000   47.000000   47.000000\n2    0.925490    0.925490    0.925490    0.925490    0.925490    0.925490\n3   53.000000   53.000000   51.000000   51.000000   50.000000   51.000000\n4    0.266667    0.266667    0.266667    0.266667    0.266667    0.266667\n5    0.078431    0.078431    0.078431    0.078431    0.078431    0.078431\n6  233.000000  234.000000  228.000000  224.000000  226.000000  226.000000\n7    0.000000    0.000000    0.000000    0.000000    0.000000    0.000000\n"
     ]
    }
   ],
   "source": [
    "\n",
    "df = get_df('/home/anirudh/Desktop/images/')\n",
    "print(df)"
   ]
  },
  {
   "cell_type": "code",
   "execution_count": 10,
   "metadata": {},
   "outputs": [],
   "source": [
    "profile = ProfileReport(df, title=\"Pandas Profiling Report\")"
   ]
  },
  {
   "cell_type": "code",
   "execution_count": 11,
   "metadata": {},
   "outputs": [
    {
     "output_type": "stream",
     "name": "stderr",
     "text": [
      "Summarize dataset: 100%|██████████| 19/19 [00:07<00:00,  2.50it/s, Completed]\n",
      "Generate report structure: 100%|██████████| 1/1 [00:01<00:00,  1.85s/it]\n",
      "Render HTML: 100%|██████████| 1/1 [00:00<00:00,  1.45it/s]\n",
      "Export report to file: 100%|██████████| 1/1 [00:00<00:00,  4.43it/s]\n"
     ]
    }
   ],
   "source": [
    "profile.to_file(\"basic_report.html\")"
   ]
  },
  {
   "cell_type": "code",
   "execution_count": null,
   "metadata": {},
   "outputs": [],
   "source": [
    "X = df[df.columns[:5]]\n",
    "y = df['output']"
   ]
  },
  {
   "cell_type": "code",
   "execution_count": null,
   "metadata": {},
   "outputs": [],
   "source": [
    "X_train, X_test, y_train, y_test = train_test_split(X, y, random_state=1)"
   ]
  },
  {
   "cell_type": "code",
   "execution_count": null,
   "metadata": {},
   "outputs": [],
   "source": [
    "regr = MLPRegressor(random_state=1, max_iter=500).fit(X_train, y_train)\n",
    "regr.score(X_test, y_test)"
   ]
  },
  {
   "cell_type": "code",
   "execution_count": null,
   "metadata": {},
   "outputs": [],
   "source": [
    "neigh = KNeighborsRegressor(n_neighbors=2)\n",
    "neigh.fit(X, y)\n",
    "neigh.score(X_test, y_test)"
   ]
  }
 ]
}